{
 "cells": [
  {
   "cell_type": "code",
   "execution_count": 1,
   "metadata": {},
   "outputs": [
    {
     "name": "stderr",
     "output_type": "stream",
     "text": [
      "C:\\Users\\parandi\\AppData\\Local\\Temp\\1\\ipykernel_15724\\4080736814.py:1: DeprecationWarning: \n",
      "Pyarrow will become a required dependency of pandas in the next major release of pandas (pandas 3.0),\n",
      "(to allow more performant data types, such as the Arrow string type, and better interoperability with other libraries)\n",
      "but was not found to be installed on your system.\n",
      "If this would cause problems for you,\n",
      "please provide us feedback at https://github.com/pandas-dev/pandas/issues/54466\n",
      "        \n",
      "  import pandas as pd\n"
     ]
    }
   ],
   "source": [
    "import pandas as pd"
   ]
  },
  {
   "cell_type": "markdown",
   "metadata": {},
   "source": [
    "### Definir tabelas"
   ]
  },
  {
   "cell_type": "code",
   "execution_count": 2,
   "metadata": {},
   "outputs": [],
   "source": [
    "#carregar os dados do LEGACY - no [legacy_address] colocar o endereço da tabela legado\n",
    "\n",
    "legacy_address = r'vehicle_registration.csv'\n",
    "\n",
    "legacy = pd.read_csv(legacy_address, sep=';')"
   ]
  },
  {
   "cell_type": "code",
   "execution_count": 3,
   "metadata": {},
   "outputs": [
    {
     "data": {
      "text/html": [
       "<div>\n",
       "<style scoped>\n",
       "    .dataframe tbody tr th:only-of-type {\n",
       "        vertical-align: middle;\n",
       "    }\n",
       "\n",
       "    .dataframe tbody tr th {\n",
       "        vertical-align: top;\n",
       "    }\n",
       "\n",
       "    .dataframe thead th {\n",
       "        text-align: right;\n",
       "    }\n",
       "</style>\n",
       "<table border=\"1\" class=\"dataframe\">\n",
       "  <thead>\n",
       "    <tr style=\"text-align: right;\">\n",
       "      <th></th>\n",
       "      <th>Record Type</th>\n",
       "      <th>VIN</th>\n",
       "      <th>Registration Class</th>\n",
       "      <th>City</th>\n",
       "      <th>State</th>\n",
       "      <th>Zip</th>\n",
       "      <th>County</th>\n",
       "      <th>Model Year</th>\n",
       "      <th>Make</th>\n",
       "      <th>Body Type</th>\n",
       "      <th>Fuel Type</th>\n",
       "      <th>Unladen Weight</th>\n",
       "      <th>Maximum Gross Weight</th>\n",
       "      <th>Passengers</th>\n",
       "      <th>Reg Valid Date</th>\n",
       "      <th>Reg Expiration Date</th>\n",
       "      <th>Color</th>\n",
       "      <th>Scofflaw Indicator</th>\n",
       "      <th>Suspension Indicator</th>\n",
       "      <th>Revocation Indicator</th>\n",
       "    </tr>\n",
       "  </thead>\n",
       "  <tbody>\n",
       "    <tr>\n",
       "      <th>0</th>\n",
       "      <td>VEH</td>\n",
       "      <td>9BWDE61J254006577</td>\n",
       "      <td>PAS</td>\n",
       "      <td>BALDWIN</td>\n",
       "      <td>NY</td>\n",
       "      <td>11510</td>\n",
       "      <td>NASSAU</td>\n",
       "      <td>2005.0</td>\n",
       "      <td>VOLKS</td>\n",
       "      <td>2DSD</td>\n",
       "      <td>GAS</td>\n",
       "      <td>2805.0</td>\n",
       "      <td>NaN</td>\n",
       "      <td>NaN</td>\n",
       "      <td>2016-12-20T00:00:00</td>\n",
       "      <td>2019-02-17T00:00:00</td>\n",
       "      <td>GY</td>\n",
       "      <td>N</td>\n",
       "      <td>N</td>\n",
       "      <td>N</td>\n",
       "    </tr>\n",
       "    <tr>\n",
       "      <th>1</th>\n",
       "      <td>VEH</td>\n",
       "      <td>9BWDE61J254003887</td>\n",
       "      <td>PAS</td>\n",
       "      <td>OLEAN</td>\n",
       "      <td>NY</td>\n",
       "      <td>14760</td>\n",
       "      <td>CATTARAUGUS</td>\n",
       "      <td>2005.0</td>\n",
       "      <td>VOLKS</td>\n",
       "      <td>2DSD</td>\n",
       "      <td>GAS</td>\n",
       "      <td>2805.0</td>\n",
       "      <td>NaN</td>\n",
       "      <td>NaN</td>\n",
       "      <td>2018-03-05T00:00:00</td>\n",
       "      <td>2020-03-18T00:00:00</td>\n",
       "      <td>BL</td>\n",
       "      <td>N</td>\n",
       "      <td>N</td>\n",
       "      <td>N</td>\n",
       "    </tr>\n",
       "    <tr>\n",
       "      <th>2</th>\n",
       "      <td>VEH</td>\n",
       "      <td>9BWDE61J254003873</td>\n",
       "      <td>PAS</td>\n",
       "      <td>WEST HENRIETTA</td>\n",
       "      <td>NY</td>\n",
       "      <td>14586</td>\n",
       "      <td>MONROE</td>\n",
       "      <td>2005.0</td>\n",
       "      <td>VOLKS</td>\n",
       "      <td>2DSD</td>\n",
       "      <td>GAS</td>\n",
       "      <td>2934.0</td>\n",
       "      <td>NaN</td>\n",
       "      <td>NaN</td>\n",
       "      <td>2017-10-05T00:00:00</td>\n",
       "      <td>2019-10-04T00:00:00</td>\n",
       "      <td>BK</td>\n",
       "      <td>N</td>\n",
       "      <td>N</td>\n",
       "      <td>N</td>\n",
       "    </tr>\n",
       "    <tr>\n",
       "      <th>3</th>\n",
       "      <td>VEH</td>\n",
       "      <td>9BWDE61J244031154</td>\n",
       "      <td>PAS</td>\n",
       "      <td>BREWSTER</td>\n",
       "      <td>NY</td>\n",
       "      <td>10509</td>\n",
       "      <td>PUTNAM</td>\n",
       "      <td>2004.0</td>\n",
       "      <td>VOLKS</td>\n",
       "      <td>2DSD</td>\n",
       "      <td>GAS</td>\n",
       "      <td>2805.0</td>\n",
       "      <td>NaN</td>\n",
       "      <td>NaN</td>\n",
       "      <td>2017-07-07T00:00:00</td>\n",
       "      <td>2019-06-17T00:00:00</td>\n",
       "      <td>BL</td>\n",
       "      <td>N</td>\n",
       "      <td>Y</td>\n",
       "      <td>N</td>\n",
       "    </tr>\n",
       "    <tr>\n",
       "      <th>4</th>\n",
       "      <td>VEH</td>\n",
       "      <td>9BWDE61J244029825</td>\n",
       "      <td>PAS</td>\n",
       "      <td>SELDEN</td>\n",
       "      <td>NY</td>\n",
       "      <td>11784</td>\n",
       "      <td>SUFFOLK</td>\n",
       "      <td>2004.0</td>\n",
       "      <td>VOLKS</td>\n",
       "      <td>2DSD</td>\n",
       "      <td>GAS</td>\n",
       "      <td>2805.0</td>\n",
       "      <td>NaN</td>\n",
       "      <td>NaN</td>\n",
       "      <td>2017-11-15T00:00:00</td>\n",
       "      <td>2019-11-22T00:00:00</td>\n",
       "      <td>BK</td>\n",
       "      <td>N</td>\n",
       "      <td>N</td>\n",
       "      <td>N</td>\n",
       "    </tr>\n",
       "  </tbody>\n",
       "</table>\n",
       "</div>"
      ],
      "text/plain": [
       "  Record Type                VIN Registration Class             City State  \\\n",
       "0        VEH   9BWDE61J254006577                PAS  BALDWIN            NY   \n",
       "1        VEH   9BWDE61J254003887                PAS  OLEAN              NY   \n",
       "2        VEH   9BWDE61J254003873                PAS  WEST HENRIETTA     NY   \n",
       "3        VEH   9BWDE61J244031154                PAS  BREWSTER           NY   \n",
       "4        VEH   9BWDE61J244029825                PAS  SELDEN             NY   \n",
       "\n",
       "     Zip        County  Model Year   Make Body Type Fuel Type  Unladen Weight  \\\n",
       "0  11510  NASSAU            2005.0  VOLKS      2DSD  GAS               2805.0   \n",
       "1  14760  CATTARAUGUS       2005.0  VOLKS      2DSD  GAS               2805.0   \n",
       "2  14586  MONROE            2005.0  VOLKS      2DSD  GAS               2934.0   \n",
       "3  10509  PUTNAM            2004.0  VOLKS      2DSD  GAS               2805.0   \n",
       "4  11784  SUFFOLK           2004.0  VOLKS      2DSD  GAS               2805.0   \n",
       "\n",
       "   Maximum Gross Weight  Passengers       Reg Valid Date  Reg Expiration Date  \\\n",
       "0                   NaN         NaN  2016-12-20T00:00:00  2019-02-17T00:00:00   \n",
       "1                   NaN         NaN  2018-03-05T00:00:00  2020-03-18T00:00:00   \n",
       "2                   NaN         NaN  2017-10-05T00:00:00  2019-10-04T00:00:00   \n",
       "3                   NaN         NaN  2017-07-07T00:00:00  2019-06-17T00:00:00   \n",
       "4                   NaN         NaN  2017-11-15T00:00:00  2019-11-22T00:00:00   \n",
       "\n",
       "   Color Scofflaw Indicator Suspension Indicator Revocation Indicator  \n",
       "0  GY                     N                    N                    N  \n",
       "1  BL                     N                    N                    N  \n",
       "2  BK                     N                    N                    N  \n",
       "3  BL                     N                    Y                    N  \n",
       "4  BK                     N                    N                    N  "
      ]
     },
     "execution_count": 3,
     "metadata": {},
     "output_type": "execute_result"
    }
   ],
   "source": [
    "legacy.head()"
   ]
  },
  {
   "cell_type": "code",
   "execution_count": 3,
   "metadata": {},
   "outputs": [],
   "source": [
    "#carregar os dados do SnowFlake - no [snowflake_address] colocar o endereço da tabela legado\n",
    "\n",
    "snowflake_address = r'registration_snowflake.csv'\n",
    "\n",
    "snowflake = pd.read_csv(legacy_address, sep = ';')"
   ]
  },
  {
   "cell_type": "markdown",
   "metadata": {},
   "source": [
    "### Teste de comparação das tabelas"
   ]
  },
  {
   "cell_type": "code",
   "execution_count": 4,
   "metadata": {},
   "outputs": [],
   "source": [
    "class TableComparator:\n",
    "    def __init__(self, legacy, snowflake):\n",
    "        self.legacy = legacy\n",
    "        self.snowflake = snowflake\n",
    "\n",
    "# modulo para teste de valores nulos nas tabelas\n",
    "        \n",
    "    def null_columns(self):\n",
    "        resultado_legado = []\n",
    "        colunas_nulas_legado = []\n",
    "        for coluna in self.legacy.columns:\n",
    "            resultado_legado = self.legacy[coluna].isna().sum()\n",
    "            if resultado_legado > 0:\n",
    "                colunas_nulas_legado.append(coluna)\n",
    "\n",
    "        resultado_snowflake = []\n",
    "        colunas_nulas_snowflake = []\n",
    "        for coluna in self.snowflake.columns:\n",
    "            resultado_snowflake = self.snowflake[coluna].isna().sum()\n",
    "            if resultado_snowflake > 0:\n",
    "                colunas_nulas_snowflake.append(coluna)\n",
    "\n",
    "        \n",
    "        print('Colunas com valores nulos no Legado:', colunas_nulas_legado)\n",
    "        print('Colunas com valores nulos no Snowflake:', colunas_nulas_snowflake)\n",
    "\n",
    "#teste de verificação se as tabelas possuem colunas com os mesmos nomes\n",
    "        \n",
    "    def columns_name(self):\n",
    "        legacy_columns_name = []\n",
    "        snowflake_columns_name = []\n",
    "\n",
    "        legacy_columns_name = self.legacy.columns\n",
    "        snowflake_columns_name = self.snowflake.columns\n",
    "\n",
    "        print('legado:', legacy_columns_name)\n",
    "        print('snowflake:', snowflake_columns_name)\n",
    "\n",
    "     \n",
    "#teste de comparação para verificar quantas linhas estão diferentes ou iguais entre as tabelas\n",
    "\n",
    "    def compare(self):\n",
    "        merge_df = pd.merge(self.legacy, self.snowflake, how='outer', indicator=True).rename(columns={'_merge': \"difference\"})\n",
    "        result = merge_df.groupby(merge_df['difference']).count()\n",
    "        print(result)\n",
    "\n",
    "#criação de arquivos CSV com os resultado dos teste de comparação\n",
    "        \n",
    "    def result_compare(self):\n",
    "        merge_df = pd.merge(self.legacy, self.snowflake, how='outer', indicator=True).rename(columns={'_merge': \"difference\"})\n",
    "        result = merge_df.groupby(merge_df['difference']).count()\n",
    "        print(result)  \n",
    "       #criação dos arquivos:\n",
    "        resultado_iguais = []\n",
    "        resultados_somente_legado = []\n",
    "        resultados_somente_snowflake = []\n",
    "        resultado_iguais = merge_df[merge_df['difference'] == 'both']\n",
    "        resultados_somente_legado = merge_df[merge_df['difference'] == 'left_only']\n",
    "        resultados_somente_snowflake = merge_df[merge_df['difference'] == 'right_only']\n",
    "        resultado_iguais.to_csv('resutados_iguais.csv', sep = ';', index=False)\n",
    "        resultados_somente_legado.to_csv('resultados_somente_legado.csv', sep = ';', index=False)\n",
    "        resultados_somente_snowflake.to_csv('resultados_somente_snowflake', sep = ';', index=False)\n",
    "\n"
   ]
  },
  {
   "cell_type": "code",
   "execution_count": 5,
   "metadata": {},
   "outputs": [],
   "source": [
    "test = TableComparator(legacy,snowflake)"
   ]
  },
  {
   "cell_type": "code",
   "execution_count": 6,
   "metadata": {},
   "outputs": [
    {
     "name": "stderr",
     "output_type": "stream",
     "text": [
      "C:\\Users\\parandi\\AppData\\Local\\Temp\\1\\ipykernel_15724\\2379983976.py:44: FutureWarning: The default of observed=False is deprecated and will be changed to True in a future version of pandas. Pass observed=False to retain current behavior or observed=True to adopt the future default and silence this warning.\n",
      "  result = merge_df.groupby(merge_df['difference']).count()\n"
     ]
    },
    {
     "name": "stdout",
     "output_type": "stream",
     "text": [
      "            Record Type       VIN  Registration Class      City     State  \\\n",
      "difference                                                                  \n",
      "left_only             0         0                   0         0         0   \n",
      "right_only            0         0                   0         0         0   \n",
      "both           11203920  11203920            11203920  11203920  11203920   \n",
      "\n",
      "                 Zip    County  Model Year      Make  Body Type  Fuel Type  \\\n",
      "difference                                                                   \n",
      "left_only          0         0           0         0          0          0   \n",
      "right_only         0         0           0         0          0          0   \n",
      "both        11203920  11203920    11203900  11203920   11203920   11203920   \n",
      "\n",
      "            Unladen Weight  Maximum Gross Weight  Passengers  Reg Valid Date  \\\n",
      "difference                                                                     \n",
      "left_only                0                     0           0               0   \n",
      "right_only               0                     0           0               0   \n",
      "both               9143991               1388975      324890        11203920   \n",
      "\n",
      "            Reg Expiration Date     Color  Scofflaw Indicator  \\\n",
      "difference                                                      \n",
      "left_only                     0         0                   0   \n",
      "right_only                    0         0                   0   \n",
      "both                   11030639  11203920            11203920   \n",
      "\n",
      "            Suspension Indicator  Revocation Indicator  \n",
      "difference                                              \n",
      "left_only                      0                     0  \n",
      "right_only                     0                     0  \n",
      "both                    11203920              11203920  \n"
     ]
    }
   ],
   "source": [
    "test.compare()"
   ]
  },
  {
   "cell_type": "code",
   "execution_count": 7,
   "metadata": {},
   "outputs": [
    {
     "name": "stdout",
     "output_type": "stream",
     "text": [
      "Colunas com valores nulos no Legado: ['Model Year', 'Unladen Weight', 'Maximum Gross Weight', 'Passengers', 'Reg Expiration Date']\n",
      "Colunas com valores nulos no Snowflake: ['Model Year', 'Unladen Weight', 'Maximum Gross Weight', 'Passengers', 'Reg Expiration Date']\n"
     ]
    }
   ],
   "source": [
    "test.null_columns()"
   ]
  },
  {
   "cell_type": "code",
   "execution_count": 9,
   "metadata": {},
   "outputs": [
    {
     "name": "stdout",
     "output_type": "stream",
     "text": [
      "legado: Index(['Record Type', 'VIN', 'Registration Class', 'City', 'State', 'Zip',\n",
      "       'County', 'Model Year', 'Make', 'Body Type', 'Fuel Type',\n",
      "       'Unladen Weight', 'Maximum Gross Weight', 'Passengers',\n",
      "       'Reg Valid Date', 'Reg Expiration Date', 'Color', 'Scofflaw Indicator',\n",
      "       'Suspension Indicator', 'Revocation Indicator'],\n",
      "      dtype='object')\n",
      "snowflake: Index(['Record Type', 'VIN', 'Registration Class', 'City', 'State', 'Zip',\n",
      "       'County', 'Model Year', 'Make', 'Body Type', 'Fuel Type',\n",
      "       'Unladen Weight', 'Maximum Gross Weight', 'Passengers',\n",
      "       'Reg Valid Date', 'Reg Expiration Date', 'Color', 'Scofflaw Indicator',\n",
      "       'Suspension Indicator', 'Revocation Indicator'],\n",
      "      dtype='object')\n"
     ]
    }
   ],
   "source": [
    "test.columns_name()"
   ]
  }
 ],
 "metadata": {
  "kernelspec": {
   "display_name": "Python 3",
   "language": "python",
   "name": "python3"
  },
  "language_info": {
   "codemirror_mode": {
    "name": "ipython",
    "version": 3
   },
   "file_extension": ".py",
   "mimetype": "text/x-python",
   "name": "python",
   "nbconvert_exporter": "python",
   "pygments_lexer": "ipython3",
   "version": "3.12.1"
  }
 },
 "nbformat": 4,
 "nbformat_minor": 2
}
